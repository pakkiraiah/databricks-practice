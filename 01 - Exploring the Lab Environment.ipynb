{
 "cells": [
  {
   "cell_type": "markdown",
   "metadata": {
    "application/vnd.databricks.v1+cell": {
     "cellMetadata": {
      "byteLimit": 2048000,
      "rowLimit": 10000
     },
     "inputWidgets": {},
     "nuid": "6f662287-a87e-4ec6-91bc-ceba3a810a49",
     "showTitle": false,
     "tableResultSettingsMap": {},
     "title": ""
    }
   },
   "source": [
    "Complete the following to explore your labuser schema using the Catalog UI on the left.\n",
    "\n",
    "a. In the left navigation bar, select the catalog icon: Catalog Icon\n",
    "\n",
    "b. Locate the catalog called dbacademy and expand the catalog.\n",
    "\n",
    "c. Expand the labuser schema (database). This is your catalog for the course. It should be your lab username (for example, labuser1234_5678)."
   ]
  },
  {
   "cell_type": "markdown",
   "metadata": {
    "application/vnd.databricks.v1+cell": {
     "cellMetadata": {
      "byteLimit": 2048000,
      "rowLimit": 10000
     },
     "inputWidgets": {},
     "nuid": "bf7fa9d0-f5e6-407b-945f-a25fd507062a",
     "showTitle": false,
     "tableResultSettingsMap": {},
     "title": ""
    }
   },
   "source": [
    "We want to modify our default catalog and default schema to use dbacademy and our labuser schema to avoid writing the three-level namespace every time we query and create tables in this course."
   ]
  },
  {
   "cell_type": "markdown",
   "metadata": {
    "application/vnd.databricks.v1+cell": {
     "cellMetadata": {
      "byteLimit": 2048000,
      "rowLimit": 10000
     },
     "inputWidgets": {},
     "nuid": "3080afe8-a317-4e57-b626-850ce113da6b",
     "showTitle": false,
     "tableResultSettingsMap": {},
     "title": ""
    }
   },
   "source": [
    "Let's modify our default catalog and schema using the USE CATALOG and USE SCHEMA statements. This eliminates the need to specify the three-level name for objects in your labuser schema (i.e., catalog.schema.object).\n",
    "\n",
    "USE CATALOG – Sets the current catalog.\n",
    "\n",
    "USE SCHEMA – Sets the current schema."
   ]
  },
  {
   "cell_type": "code",
   "execution_count": 0,
   "metadata": {
    "application/vnd.databricks.v1+cell": {
     "cellMetadata": {
      "byteLimit": 2048000,
      "implicitDf": true,
      "rowLimit": 10000
     },
     "inputWidgets": {},
     "nuid": "7ba6c274-7738-4754-97c1-a50f32f7b34e",
     "showTitle": false,
     "tableResultSettingsMap": {},
     "title": ""
    }
   },
   "outputs": [],
   "source": [
    "%sql\n",
    "-- Change the default catalog/schema\n",
    "USE CATALOG dbacademy;\n",
    "USE SCHEMA labuser101;\n",
    "\n",
    "\n",
    "-- View current catalog and schema\n",
    "SELECT \n",
    "  current_catalog(), \n",
    "  current_schema()"
   ]
  },
  {
   "cell_type": "markdown",
   "metadata": {
    "application/vnd.databricks.v1+cell": {
     "cellMetadata": {
      "byteLimit": 2048000,
      "rowLimit": 10000
     },
     "inputWidgets": {},
     "nuid": "f0daf973-7cef-4e07-8a37-f3a13ebc5214",
     "showTitle": false,
     "tableResultSettingsMap": {},
     "title": ""
    }
   },
   "source": [
    "B. Inspecting and Referencing Unity Catalog Objects\n",
    "Catalogs, Schemas, Volumes, and Tables\n",
    "In Unity Catalog, all metadata is registered in a metastore. The hierarchy of database objects in any Unity Catalog metastore is divided into three levels, represented as a three-level namespace (example, <catalog>.<schema>.<object>) when you reference tables, views, volumes, models, and functions."
   ]
  },
  {
   "cell_type": "markdown",
   "metadata": {
    "application/vnd.databricks.v1+cell": {
     "cellMetadata": {
      "byteLimit": 2048000,
      "rowLimit": 10000
     },
     "inputWidgets": {},
     "nuid": "b83127d8-6a39-4bd4-a5e9-8194e27656d2",
     "showTitle": false,
     "tableResultSettingsMap": {},
     "title": ""
    }
   },
   "source": [
    "B1. Catalogs\n",
    "Use the SHOW SCHEMAS IN statement to view available schemas in the dbacademy catalog. Run the cell and view the results. Notice that your labuser schema is within the dbacademy catalog."
   ]
  },
  {
   "cell_type": "code",
   "execution_count": 0,
   "metadata": {
    "application/vnd.databricks.v1+cell": {
     "cellMetadata": {
      "byteLimit": 2048000,
      "implicitDf": true,
      "rowLimit": 10000
     },
     "inputWidgets": {},
     "nuid": "f5147ae6-d3db-4f6b-80c9-493660e49812",
     "showTitle": false,
     "tableResultSettingsMap": {},
     "title": ""
    }
   },
   "outputs": [],
   "source": [
    "%sql\n",
    "SHOW SCHEMAS IN dbacademy;"
   ]
  },
  {
   "cell_type": "markdown",
   "metadata": {
    "application/vnd.databricks.v1+cell": {
     "cellMetadata": {
      "byteLimit": 2048000,
      "rowLimit": 10000
     },
     "inputWidgets": {},
     "nuid": "56bc6505-8485-49cb-9e9f-dfc848675344",
     "showTitle": false,
     "tableResultSettingsMap": {},
     "title": ""
    }
   },
   "source": [
    "B2. Schemas\n",
    "Run the DESCRIBE SCHEMA EXTENDED statement to see information about your labuser schema (database) that was created for you within the dbacademy catalog. In the output below, your schema name is in the row called Namespace Name.\n",
    "\n",
    "NOTE: Remember, we are using the IDENTIFIER clause to dynamically reference your specific schema name in the lab, since each user will have a different schema name. Alternatively, you can type in the schema name."
   ]
  },
  {
   "cell_type": "code",
   "execution_count": 0,
   "metadata": {
    "application/vnd.databricks.v1+cell": {
     "cellMetadata": {
      "byteLimit": 2048000,
      "implicitDf": true,
      "rowLimit": 10000
     },
     "inputWidgets": {},
     "nuid": "edaa293b-deaa-4091-8be6-cd912d582737",
     "showTitle": false,
     "tableResultSettingsMap": {},
     "title": ""
    }
   },
   "outputs": [],
   "source": [
    "%sql\n",
    "DESCRIBE SCHEMA EXTENDED dbacademy.labuser101;\n",
    "    "
   ]
  },
  {
   "cell_type": "markdown",
   "metadata": {
    "application/vnd.databricks.v1+cell": {
     "cellMetadata": {
      "byteLimit": 2048000,
      "rowLimit": 10000
     },
     "inputWidgets": {},
     "nuid": "8477bc24-2ea2-4d33-9ab5-e85ac05df430",
     "showTitle": false,
     "tableResultSettingsMap": {},
     "title": ""
    }
   },
   "source": [
    "B3. Tables\n",
    "Use the DESCRIBE TABLE EXTENDED statement to describe the table mydeltatable.\n",
    "\n",
    "Run the cell and view the results. Notice the following:\n",
    "\n",
    "In the first few cells, you can see column information.\n",
    "Starting at cell 4, you can see additional Delta Statistics Columns.\n",
    "Starting at cell 8, you can see additional Detailed Table Information.\n",
    "NOTE: Remember, we do not need to reference the three-level namespace (catalog.schema.table) because we set our default catalog and schema earlier."
   ]
  },
  {
   "cell_type": "code",
   "execution_count": 0,
   "metadata": {
    "application/vnd.databricks.v1+cell": {
     "cellMetadata": {
      "byteLimit": 2048000,
      "implicitDf": true,
      "rowLimit": 10000
     },
     "inputWidgets": {},
     "nuid": "a2e0dcec-b051-41ac-8a3e-a1af5d47b5d7",
     "showTitle": false,
     "tableResultSettingsMap": {},
     "title": ""
    }
   },
   "outputs": [],
   "source": [
    "%sql\n",
    "-- Drop the table if it exists\n",
    "\n",
    "DROP TABLE IF EXISTS mydeltatable;\n",
    "\n",
    "-- Create the table if it does not exist\n",
    "\n",
    "CREATE TABLE IF NOT EXISTS mydeltatable (id INT, name STRING);\n",
    "\n",
    "-- Insert data into the table\n",
    "\n",
    "INSERT INTO mydeltatable (id, name) VALUES (1, 'Peter');\n",
    "\n",
    "\n",
    "\n"
   ]
  },
  {
   "cell_type": "code",
   "execution_count": 0,
   "metadata": {
    "application/vnd.databricks.v1+cell": {
     "cellMetadata": {
      "byteLimit": 2048000,
      "rowLimit": 10000
     },
     "inputWidgets": {},
     "nuid": "0f05c27a-59ac-40c8-8735-e13cd7b24e8c",
     "showTitle": false,
     "tableResultSettingsMap": {},
     "title": ""
    }
   },
   "outputs": [],
   "source": [
    "\n",
    "#Print confirmation message\n",
    "print('Created Delta table mydeltatable for the demonstration.')"
   ]
  },
  {
   "cell_type": "markdown",
   "metadata": {
    "application/vnd.databricks.v1+cell": {
     "cellMetadata": {
      "byteLimit": 2048000,
      "rowLimit": 10000
     },
     "inputWidgets": {},
     "nuid": "96fbbc5b-7f9d-4dfa-aaaa-ea7016db32e3",
     "showTitle": false,
     "tableResultSettingsMap": {},
     "title": ""
    }
   },
   "source": [
    "Python code\n",
    "spark.sql('DROP TABLE IF EXISTS mydeltatable')\n",
    "spark.sql('CREATE TABLE IF NOT EXISTS mydeltatable (id INT, name STRING)')\n",
    "spark.sql('INSERT INTO mydeltatable (id, name) VALUES (1,\"Peter\")')\n",
    "print('Created Delta table mydeltatable for the demonstration.')"
   ]
  },
  {
   "cell_type": "code",
   "execution_count": 0,
   "metadata": {
    "application/vnd.databricks.v1+cell": {
     "cellMetadata": {
      "byteLimit": 2048000,
      "implicitDf": true,
      "rowLimit": 10000
     },
     "inputWidgets": {},
     "nuid": "93a298b1-3f3a-43ea-9f97-654513af6af7",
     "showTitle": false,
     "tableResultSettingsMap": {},
     "title": ""
    }
   },
   "outputs": [],
   "source": [
    "%sql \n",
    "DESCRIBE TABLE EXTENDED mydeltatable"
   ]
  },
  {
   "cell_type": "markdown",
   "metadata": {
    "application/vnd.databricks.v1+cell": {
     "cellMetadata": {
      "byteLimit": 2048000,
      "rowLimit": 10000
     },
     "inputWidgets": {},
     "nuid": "95f79f88-a0c6-4227-8878-da00e852ab1b",
     "showTitle": false,
     "tableResultSettingsMap": {},
     "title": ""
    }
   },
   "source": [
    "B4. Volumes\n",
    "Volumes are Unity Catalog objects that enable governance over non-tabular datasets. Volumes represent a logical volume of storage in a cloud object storage location. Volumes provide capabilities for accessing, storing, governing, and organizing files.\n",
    "\n",
    "While tables provide governance over tabular datasets, volumes add governance over non-tabular datasets. You can use volumes to store and access files in any format, including structured, semi-structured, and unstructured data.\n",
    "\n",
    "Databricks recommends using volumes to govern access to all non-tabular data. Like tables, volumes can be managed or external."
   ]
  },
  {
   "cell_type": "markdown",
   "metadata": {
    "application/vnd.databricks.v1+cell": {
     "cellMetadata": {
      "byteLimit": 2048000,
      "rowLimit": 10000
     },
     "inputWidgets": {},
     "nuid": "54524085-d388-4435-941c-3426fc32afdb",
     "showTitle": false,
     "tableResultSettingsMap": {},
     "title": ""
    }
   },
   "source": [
    "B4.1 UI Exploration\n",
    "Complete the following to explore the dbacademy_ecommerce catalog:\n",
    "\n",
    "In the left navigation bar, select the catalog icon: Catalog Icon\n",
    "\n",
    "Locate the catalog called dbacademy_ecommerce and expand the catalog.\n",
    "\n",
    "Expand the v01 schema. Notice that this catalog contains two volumes, delta and raw.\n",
    "\n",
    "Expand the raw volume. Notice that the volume contains a series of folders.\n",
    "\n",
    "Expand the users-historical folder. Notice that the folder contains a series of files."
   ]
  },
  {
   "cell_type": "markdown",
   "metadata": {
    "application/vnd.databricks.v1+cell": {
     "cellMetadata": {
      "byteLimit": 2048000,
      "rowLimit": 10000
     },
     "inputWidgets": {},
     "nuid": "8888c844-9799-4035-a8c7-9d2d60a1c3a0",
     "showTitle": false,
     "tableResultSettingsMap": {},
     "title": ""
    }
   },
   "source": [
    "B4.2 Volume Exploration with SQL Run the DESCRIBE VOLUME statement to return the metadata for the dbacademy_ecommerce.v01.raw volume. The metadata includes the volume name, schema, catalog, type, comment, owner, and more.\n",
    "\n",
    "Notice the following:\n",
    "\n",
    "Under the storage_location column, you can see the cloud storage location for this volume.\n",
    "\n",
    "Under the volume_type column, it indicates this is a MANAGED volume."
   ]
  },
  {
   "cell_type": "code",
   "execution_count": 0,
   "metadata": {
    "application/vnd.databricks.v1+cell": {
     "cellMetadata": {
      "byteLimit": 2048000,
      "implicitDf": true,
      "rowLimit": 10000
     },
     "inputWidgets": {},
     "nuid": "9032c48a-c6d6-4900-91fd-90d1772bd8cf",
     "showTitle": false,
     "tableResultSettingsMap": {},
     "title": ""
    }
   },
   "outputs": [],
   "source": [
    "%sql\n",
    "DESCRIBE VOLUME dbacademy_ecommerce.v01.raw;"
   ]
  },
  {
   "cell_type": "markdown",
   "metadata": {
    "application/vnd.databricks.v1+cell": {
     "cellMetadata": {
      "byteLimit": 2048000,
      "rowLimit": 10000
     },
     "inputWidgets": {},
     "nuid": "455d4469-23f1-49dc-a117-48808ddd691a",
     "showTitle": false,
     "tableResultSettingsMap": {},
     "title": ""
    }
   },
   "source": [
    "B4.3 List Files in a Volume Use the LIST statement to list the available files in the raw volume's users-historical directory (/Volumes/dbacademy_ecommerce/v01/raw/users-historical) and view the results.\n",
    "\n",
    "Notice the following:\n",
    "\n",
    "Ignore any file names that begin with an underscore (_). These are temporary or intermediate files used when writing files to a location. Scroll down in the results and expand one of the files where the name column begins with part. Confirm that this directory contains a series of Parquet files."
   ]
  },
  {
   "cell_type": "code",
   "execution_count": 0,
   "metadata": {
    "application/vnd.databricks.v1+cell": {
     "cellMetadata": {
      "byteLimit": 2048000,
      "implicitDf": true,
      "rowLimit": 10000
     },
     "inputWidgets": {},
     "nuid": "b63457b9-7316-456a-a439-225a7d90eb9b",
     "showTitle": false,
     "tableResultSettingsMap": {},
     "title": ""
    }
   },
   "outputs": [],
   "source": [
    "%sql\n",
    "LIST '/Volumes/dbacademy_ecommerce/v01/raw/user_historical'"
   ]
  }
 ],
 "metadata": {
  "application/vnd.databricks.v1+notebook": {
   "computePreferences": null,
   "dashboards": [],
   "environmentMetadata": {
    "base_environment": "",
    "environment_version": "2"
   },
   "inputWidgetPreferences": null,
   "language": "python",
   "notebookMetadata": {
    "mostRecentlyExecutedCommandWithImplicitDF": {
     "commandId": 5264973390887417,
     "dataframes": [
      "_sqldf"
     ]
    },
    "pythonIndentUnit": 4
   },
   "notebookName": "01 - Exploring the Lab Environment",
   "widgets": {}
  },
  "language_info": {
   "name": "python"
  }
 },
 "nbformat": 4,
 "nbformat_minor": 0
}
