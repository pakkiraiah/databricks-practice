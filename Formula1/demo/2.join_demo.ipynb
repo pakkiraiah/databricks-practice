{
 "cells": [
  {
   "cell_type": "code",
   "execution_count": 0,
   "metadata": {
    "application/vnd.databricks.v1+cell": {
     "cellMetadata": {
      "byteLimit": 2048000,
      "rowLimit": 10000
     },
     "inputWidgets": {},
     "nuid": "10a846fb-8f19-4ac5-a544-ff1342243022",
     "showTitle": false,
     "tableResultSettingsMap": {},
     "title": ""
    }
   },
   "outputs": [],
   "source": [
    "%run \"/Repos/pakkiraiah.kandi@outlook.com/databricks-practice/Formula1/Includes/configurations\"\n"
   ]
  },
  {
   "cell_type": "code",
   "execution_count": 0,
   "metadata": {
    "application/vnd.databricks.v1+cell": {
     "cellMetadata": {
      "byteLimit": 2048000,
      "rowLimit": 10000
     },
     "inputWidgets": {},
     "nuid": "4cfa5df4-6b62-48a4-8228-468a4b0eff3c",
     "showTitle": false,
     "tableResultSettingsMap": {},
     "title": ""
    }
   },
   "outputs": [],
   "source": [
    "%run \"/Repos/pakkiraiah.kandi@outlook.com/databricks-practice/Formula1/Includes/common_functions\""
   ]
  },
  {
   "cell_type": "code",
   "execution_count": 0,
   "metadata": {
    "application/vnd.databricks.v1+cell": {
     "cellMetadata": {
      "byteLimit": 2048000,
      "rowLimit": 10000
     },
     "inputWidgets": {},
     "nuid": "068c7556-5160-465a-bbc4-be9b72717caa",
     "showTitle": false,
     "tableResultSettingsMap": {},
     "title": ""
    }
   },
   "outputs": [],
   "source": [
    "#Read data for races from processed\n",
    "races_df=spark.read.parquet(f\"{processed_folder_path}/race\").filter(\"race_year=2019\")\n",
    "races_df=races_df.withColumnRenamed(\"name\",\"race_name\")\n"
   ]
  },
  {
   "cell_type": "code",
   "execution_count": 0,
   "metadata": {
    "application/vnd.databricks.v1+cell": {
     "cellMetadata": {
      "byteLimit": 2048000,
      "rowLimit": 10000
     },
     "inputWidgets": {},
     "nuid": "9ebb8cd9-1b21-4cdb-84d8-cd2ccacd7c1e",
     "showTitle": false,
     "tableResultSettingsMap": {},
     "title": ""
    }
   },
   "outputs": [],
   "source": [
    "#Read data for races from processed\n",
    "circuits_df=spark.read.parquet(f\"{processed_folder_path}/circuits\")\n",
    "circuits_df=circuits_df.withColumnRenamed(\"name\",\"circuit_name\").filter(circuits_df[\"circuit_id\"]<60)"
   ]
  },
  {
   "cell_type": "code",
   "execution_count": 0,
   "metadata": {
    "application/vnd.databricks.v1+cell": {
     "cellMetadata": {
      "byteLimit": 2048000,
      "rowLimit": 10000
     },
     "inputWidgets": {},
     "nuid": "b5a18b7d-4a04-4bb0-af00-572e4500741a",
     "showTitle": false,
     "tableResultSettingsMap": {
      "0": {
       "dataGridStateBlob": "{\"version\":1,\"tableState\":{\"columnPinning\":{\"left\":[\"#row_number#\"],\"right\":[]},\"columnSizing\":{},\"columnVisibility\":{}},\"settings\":{\"columns\":{}},\"syncTimestamp\":1753262509371}",
       "filterBlob": null,
       "queryPlanFiltersBlob": null,
       "tableResultIndex": 0
      }
     },
     "title": ""
    }
   },
   "outputs": [],
   "source": [
    "display(races_df)"
   ]
  },
  {
   "cell_type": "code",
   "execution_count": 0,
   "metadata": {
    "application/vnd.databricks.v1+cell": {
     "cellMetadata": {
      "byteLimit": 2048000,
      "rowLimit": 10000
     },
     "inputWidgets": {},
     "nuid": "0bc4b3bb-dc64-4510-aa55-3a1cc935cdc6",
     "showTitle": false,
     "tableResultSettingsMap": {
      "0": {
       "dataGridStateBlob": "{\"version\":1,\"tableState\":{\"columnPinning\":{\"left\":[\"#row_number#\"],\"right\":[]},\"columnSizing\":{},\"columnVisibility\":{}},\"settings\":{\"columns\":{}},\"syncTimestamp\":1753262514999}",
       "filterBlob": null,
       "queryPlanFiltersBlob": null,
       "tableResultIndex": 0
      }
     },
     "title": ""
    }
   },
   "outputs": [],
   "source": [
    "display(circuits_df)"
   ]
  },
  {
   "cell_type": "code",
   "execution_count": 0,
   "metadata": {
    "application/vnd.databricks.v1+cell": {
     "cellMetadata": {
      "byteLimit": 2048000,
      "rowLimit": 10000
     },
     "inputWidgets": {},
     "nuid": "66a3b8ef-2113-417d-9925-74f9537bbcd4",
     "showTitle": false,
     "tableResultSettingsMap": {},
     "title": ""
    }
   },
   "outputs": [],
   "source": [
    "#Default/Inner join\n",
    "races_circuit_df=races_df.join(circuits_df,races_df[\"circuit_id\"]==circuits_df[\"circuit_id\"],\"inner\").select(races_df[\"race_id\"],races_df[\"race_name\"],races_df[\"race_timestamp\"],races_df[\"race_year\"],circuits_df[\"circuit_name\"],circuits_df[\"country\"])\n",
    "\n",
    "display(races_circuit_df)"
   ]
  },
  {
   "cell_type": "markdown",
   "metadata": {
    "application/vnd.databricks.v1+cell": {
     "cellMetadata": {
      "byteLimit": 2048000,
      "rowLimit": 10000
     },
     "inputWidgets": {},
     "nuid": "1a3ca7f9-a54b-49df-9f6a-cba2ec378454",
     "showTitle": false,
     "tableResultSettingsMap": {},
     "title": ""
    }
   },
   "source": [
    "#Outer Joins\n",
    "## Right Outer Join\n",
    "## Left Outer Join\n",
    "## Fullouter Join\n",
    "## SEMI join\n",
    "## Cross Join"
   ]
  },
  {
   "cell_type": "code",
   "execution_count": 0,
   "metadata": {
    "application/vnd.databricks.v1+cell": {
     "cellMetadata": {
      "byteLimit": 2048000,
      "rowLimit": 10000
     },
     "inputWidgets": {},
     "nuid": "b456b7c2-cab0-4926-bfd6-78e34fbc9c34",
     "showTitle": false,
     "tableResultSettingsMap": {},
     "title": ""
    }
   },
   "outputs": [],
   "source": [
    "#Left Outer join\n",
    "races_circuit_df=circuits_df.join(races_df,races_df[\"circuit_id\"]==circuits_df[\"circuit_id\"],\"left\").select(races_df[\"race_id\"],races_df[\"race_name\"],races_df[\"race_timestamp\"],races_df[\"race_year\"],circuits_df[\"circuit_name\"],circuits_df[\"country\"])"
   ]
  },
  {
   "cell_type": "code",
   "execution_count": 0,
   "metadata": {
    "application/vnd.databricks.v1+cell": {
     "cellMetadata": {
      "byteLimit": 2048000,
      "rowLimit": 10000
     },
     "inputWidgets": {},
     "nuid": "0f8ce58b-f35c-4a57-9c8b-1781ac23c372",
     "showTitle": false,
     "tableResultSettingsMap": {},
     "title": ""
    }
   },
   "outputs": [],
   "source": [
    "display(races_circuit_df)"
   ]
  },
  {
   "cell_type": "code",
   "execution_count": 0,
   "metadata": {
    "application/vnd.databricks.v1+cell": {
     "cellMetadata": {
      "byteLimit": 2048000,
      "rowLimit": 10000
     },
     "inputWidgets": {},
     "nuid": "96dad006-795f-484c-92b5-d974d1a66e94",
     "showTitle": false,
     "tableResultSettingsMap": {},
     "title": ""
    }
   },
   "outputs": [],
   "source": [
    "#Right Outer join\n",
    "races_circuit_df=circuits_df.join(races_df,races_df[\"circuit_id\"]==circuits_df[\"circuit_id\"],\"right\").select(races_df[\"race_id\"],races_df[\"race_name\"],races_df[\"race_timestamp\"],races_df[\"race_year\"],circuits_df[\"circuit_name\"],circuits_df[\"country\"])"
   ]
  },
  {
   "cell_type": "code",
   "execution_count": 0,
   "metadata": {
    "application/vnd.databricks.v1+cell": {
     "cellMetadata": {
      "byteLimit": 2048000,
      "rowLimit": 10000
     },
     "inputWidgets": {},
     "nuid": "9a3c579e-cb35-44a9-935b-6495e8c2fe9c",
     "showTitle": false,
     "tableResultSettingsMap": {},
     "title": ""
    }
   },
   "outputs": [],
   "source": [
    "display(races_circuit_df)"
   ]
  },
  {
   "cell_type": "code",
   "execution_count": 0,
   "metadata": {
    "application/vnd.databricks.v1+cell": {
     "cellMetadata": {
      "byteLimit": 2048000,
      "rowLimit": 10000
     },
     "inputWidgets": {},
     "nuid": "12d203a0-502a-44c8-b8d8-9370819fe309",
     "showTitle": false,
     "tableResultSettingsMap": {},
     "title": ""
    }
   },
   "outputs": [],
   "source": [
    "#Full Outer join\n",
    "races_circuit_df=circuits_df.join(races_df,races_df[\"circuit_id\"]==circuits_df[\"circuit_id\"],\"full\").select(races_df[\"race_id\"],races_df[\"race_name\"],races_df[\"race_timestamp\"],races_df[\"race_year\"],circuits_df[\"circuit_name\"],circuits_df[\"country\"])\n",
    "\n",
    "display(races_circuit_df)"
   ]
  },
  {
   "cell_type": "code",
   "execution_count": 0,
   "metadata": {
    "application/vnd.databricks.v1+cell": {
     "cellMetadata": {
      "byteLimit": 2048000,
      "rowLimit": 10000
     },
     "inputWidgets": {},
     "nuid": "866e6133-7207-4cf8-95de-4ff2dbdbf6ba",
     "showTitle": false,
     "tableResultSettingsMap": {},
     "title": ""
    }
   },
   "outputs": [],
   "source": [
    "#LEFT SEMI / SEMI join, will return only the records from left table which has a match in right table\n",
    "races_circuit_df=circuits_df.join(races_df,races_df[\"circuit_id\"]==circuits_df[\"circuit_id\"],\"semi\")\\\n",
    "    #.select(races_df[\"race_id\"],races_df[\"race_name\"],races_df[\"race_timestamp\"],races_df[\"race_year\"],circuits_df[\"circuit_name\"],circuits_df[\"country\"])"
   ]
  },
  {
   "cell_type": "code",
   "execution_count": 0,
   "metadata": {
    "application/vnd.databricks.v1+cell": {
     "cellMetadata": {
      "byteLimit": 2048000,
      "rowLimit": 10000
     },
     "inputWidgets": {},
     "nuid": "ffcb719b-a4e4-4eb4-a7ce-ce8a64b6e3df",
     "showTitle": false,
     "tableResultSettingsMap": {},
     "title": ""
    }
   },
   "outputs": [],
   "source": [
    "display(races_circuit_df)"
   ]
  },
  {
   "cell_type": "code",
   "execution_count": 0,
   "metadata": {
    "application/vnd.databricks.v1+cell": {
     "cellMetadata": {
      "byteLimit": 2048000,
      "rowLimit": 10000
     },
     "inputWidgets": {},
     "nuid": "81d2ecc5-fcf1-4d4e-b730-ac4b0694a178",
     "showTitle": false,
     "tableResultSettingsMap": {},
     "title": ""
    }
   },
   "outputs": [],
   "source": [
    "#ANTI Join, is opposite of SEMI Join, will return only the records from Right table which has a match in left table table\n",
    "races_circuit_df=races_df.join(circuits_df,races_df[\"circuit_id\"]==circuits_df[\"circuit_id\"],\"anti\")\\\n",
    "    #.select(races_df[\"race_id\"],races_df[\"race_name\"],races_df[\"race_timestamp\"],races_df[\"race_year\"],circuits_df[\"circuit_name\"],circuits_df[\"country\"])\n",
    "\n",
    "display(races_circuit_df)"
   ]
  },
  {
   "cell_type": "code",
   "execution_count": 0,
   "metadata": {
    "application/vnd.databricks.v1+cell": {
     "cellMetadata": {
      "byteLimit": 2048000,
      "rowLimit": 10000
     },
     "inputWidgets": {},
     "nuid": "df2be62a-00c4-4557-8152-1e77d00bef39",
     "showTitle": false,
     "tableResultSettingsMap": {},
     "title": ""
    }
   },
   "outputs": [],
   "source": [
    "#CROSS Join, will return all the records from left table with all the records from right table\n",
    "races_circuit_df=races_df.join(circuits_df,races_df[\"circuit_id\"]==circuits_df[\"circuit_id\"],\"anti\")\\\n",
    "    #.select(races_df[\"race_id\"],races_df[\"race_name\"],races_df[\"race_timestamp\"],races_df[\"race_year\"],circuits_df[\"circuit_name\"],circuits_df[\"country\"])\n",
    "\n",
    "display(races_circuit_df)"
   ]
  }
 ],
 "metadata": {
  "application/vnd.databricks.v1+notebook": {
   "computePreferences": null,
   "dashboards": [],
   "environmentMetadata": {
    "base_environment": "",
    "environment_version": "2"
   },
   "inputWidgetPreferences": null,
   "language": "python",
   "notebookMetadata": {
    "pythonIndentUnit": 4
   },
   "notebookName": "2.join_demo",
   "widgets": {}
  },
  "language_info": {
   "name": "python"
  }
 },
 "nbformat": 4,
 "nbformat_minor": 0
}
