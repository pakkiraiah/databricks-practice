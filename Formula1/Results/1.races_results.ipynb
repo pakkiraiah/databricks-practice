{
 "cells": [
  {
   "cell_type": "code",
   "execution_count": 0,
   "metadata": {
    "application/vnd.databricks.v1+cell": {
     "cellMetadata": {
      "byteLimit": 2048000,
      "rowLimit": 10000
     },
     "inputWidgets": {},
     "nuid": "10a846fb-8f19-4ac5-a544-ff1342243022",
     "showTitle": false,
     "tableResultSettingsMap": {},
     "title": ""
    }
   },
   "outputs": [],
   "source": [
    "%run \"/Repos/pakkiraiah.kandi@outlook.com/databricks-practice/Formula1/Includes/configurations\"\n"
   ]
  },
  {
   "cell_type": "code",
   "execution_count": 0,
   "metadata": {
    "application/vnd.databricks.v1+cell": {
     "cellMetadata": {
      "byteLimit": 2048000,
      "rowLimit": 10000
     },
     "inputWidgets": {},
     "nuid": "4cfa5df4-6b62-48a4-8228-468a4b0eff3c",
     "showTitle": false,
     "tableResultSettingsMap": {},
     "title": ""
    }
   },
   "outputs": [],
   "source": [
    "%run \"/Repos/pakkiraiah.kandi@outlook.com/databricks-practice/Formula1/Includes/common_functions\""
   ]
  },
  {
   "cell_type": "code",
   "execution_count": 0,
   "metadata": {
    "application/vnd.databricks.v1+cell": {
     "cellMetadata": {
      "byteLimit": 2048000,
      "rowLimit": 10000
     },
     "inputWidgets": {},
     "nuid": "068c7556-5160-465a-bbc4-be9b72717caa",
     "showTitle": false,
     "tableResultSettingsMap": {},
     "title": ""
    }
   },
   "outputs": [],
   "source": [
    "#Read data for races from processed\n",
    "races_df=spark.read.parquet(f\"{processed_folder_path}/race\")\n",
    "races_df=races_df.withColumnRenamed(\"name\",\"race_name\").withColumnRenamed(\"race_timestamp\",\"race_date\")\n",
    "\n",
    "#Read Results data from processed\n",
    "results_df=spark.read.parquet(f\"{processed_folder_path}/results\").withColumnRenamed(\"time\",\"race_time\")\\\n",
    "    .withColumnRenamed(\"race_id\",\"result_race_id\")\\\n",
    "    .withColumnRenamed(\"driver_id\",\"result_driver_id\")\\\n",
    "    .withColumnRenamed(\"constructor_id\",\"result_constructor_id\")\n",
    "\n",
    "#Read data for circuits from processed\n",
    "circuits_df=spark.read.parquet(f\"{processed_folder_path}/circuits\")\n",
    "circuits_df=circuits_df.withColumnRenamed(\"name\",\"circuit_name\").withColumnRenamed(\"location\",\"circuit_location\")\n",
    "\n",
    "#Read data for constructors from processed\n",
    "constructors_df=spark.read.parquet(f\"{processed_folder_path}/constructors\").withColumnRenamed(\"name\",\"constructor_name\")\n",
    "\n",
    "\n",
    "#Read Drivers data from processed\n",
    "drivers_df=spark.read.parquet(f\"{processed_folder_path}/drivers\").withColumnRenamed(\"name\",\"driver_name\")\\\n",
    "    .withColumnRenamed(\"number\",\"driver_number\").withColumnRenamed(\"nationality\",\"driver_nationality\")\n",
    "\n"
   ]
  },
  {
   "cell_type": "code",
   "execution_count": 0,
   "metadata": {
    "application/vnd.databricks.v1+cell": {
     "cellMetadata": {
      "byteLimit": 2048000,
      "rowLimit": 10000
     },
     "inputWidgets": {},
     "nuid": "b5a18b7d-4a04-4bb0-af00-572e4500741a",
     "showTitle": false,
     "tableResultSettingsMap": {
      "0": {
       "dataGridStateBlob": "{\"version\":1,\"tableState\":{\"columnPinning\":{\"left\":[\"#row_number#\"],\"right\":[]},\"columnSizing\":{},\"columnVisibility\":{}},\"settings\":{\"columns\":{}},\"syncTimestamp\":1753262509371}",
       "filterBlob": null,
       "queryPlanFiltersBlob": null,
       "tableResultIndex": 0
      }
     },
     "title": ""
    }
   },
   "outputs": [],
   "source": [
    "race_circuits_df=circuits_df.join(races_df,races_df[\"circuit_id\"]==circuits_df[\"circuit_id\"],\"inner\").select(races_df.race_id,races_df.race_name,races_df.race_year,races_df.race_date,circuits_df.circuit_name,circuits_df.circuit_location)\n",
    "display(race_circuits_df)"
   ]
  },
  {
   "cell_type": "code",
   "execution_count": 0,
   "metadata": {
    "application/vnd.databricks.v1+cell": {
     "cellMetadata": {
      "byteLimit": 2048000,
      "rowLimit": 10000
     },
     "inputWidgets": {},
     "nuid": "2735d9a6-388e-4f43-9ed6-d140bb1756d4",
     "showTitle": false,
     "tableResultSettingsMap": {
      "0": {
       "dataGridStateBlob": "{\"version\":1,\"tableState\":{\"columnPinning\":{\"left\":[\"#row_number#\"],\"right\":[]},\"columnSizing\":{},\"columnVisibility\":{}},\"settings\":{\"columns\":{}},\"syncTimestamp\":1753455198829}",
       "filterBlob": null,
       "queryPlanFiltersBlob": null,
       "tableResultIndex": 0
      }
     },
     "title": ""
    }
   },
   "outputs": [],
   "source": [
    "#join with race_circuits_df and Results df\n",
    "races_results_df=results_df.join(race_circuits_df,race_circuits_df[\"race_id\"]==results_df[\"result_race_id\"],\"inner\")\\\n",
    "                            .join(drivers_df,drivers_df.driver_id==results_df.result_driver_id)\\\n",
    "                            .join(constructors_df,results_df['result_constructor_id']==constructors_df['constructor_id'])\n",
    "\n",
    "final_df=races_results_df.select(races_results_df.race_year,races_results_df.race_name,races_results_df.race_date    ,races_results_df.circuit_location,races_results_df.circuit_name,races_results_df.driver_id,races_results_df.driver_name   ,races_results_df.driver_nationality,races_results_df.constructor_name,races_results_df.grid   ,races_results_df.fastest_lap,races_results_df.race_time,races_results_df.points,races_results_df.position)\n",
    "\n",
    "display(final_df)"
   ]
  },
  {
   "cell_type": "code",
   "execution_count": 0,
   "metadata": {
    "application/vnd.databricks.v1+cell": {
     "cellMetadata": {
      "byteLimit": 2048000,
      "rowLimit": 10000
     },
     "inputWidgets": {},
     "nuid": "1ec183c3-354a-42cf-b2e6-43673dcc2a24",
     "showTitle": false,
     "tableResultSettingsMap": {},
     "title": ""
    }
   },
   "outputs": [],
   "source": [
    "final_df.write.mode(\"overwrite\").parquet(f\"{presentation_folder_path}/formula1_results\")"
   ]
  },
  {
   "cell_type": "code",
   "execution_count": 0,
   "metadata": {
    "application/vnd.databricks.v1+cell": {
     "cellMetadata": {
      "byteLimit": 2048000,
      "rowLimit": 10000
     },
     "inputWidgets": {},
     "nuid": "0798315f-dc99-4421-afd4-cba50c175d5c",
     "showTitle": false,
     "tableResultSettingsMap": {
      "0": {
       "dataGridStateBlob": "{\"version\":1,\"tableState\":{\"columnPinning\":{\"left\":[\"#row_number#\"],\"right\":[]},\"columnSizing\":{},\"columnVisibility\":{}},\"settings\":{\"columns\":{}},\"syncTimestamp\":1753461300594}",
       "filterBlob": null,
       "queryPlanFiltersBlob": null,
       "tableResultIndex": 0
      }
     },
     "title": ""
    }
   },
   "outputs": [],
   "source": [
    "read_formula_df=spark.read.parquet(f\"{presentation_folder_path}/formula1_results\")\n",
    "display(read_formula_df.filter(\"race_year=='2020'\").filter(\"race_name=='Abu Dhabi Grand Prix'\").orderBy(read_formula_df[\"points\"].desc()))\n"
   ]
  }
 ],
 "metadata": {
  "application/vnd.databricks.v1+notebook": {
   "computePreferences": null,
   "dashboards": [],
   "environmentMetadata": {
    "base_environment": "",
    "environment_version": "2"
   },
   "inputWidgetPreferences": null,
   "language": "python",
   "notebookMetadata": {
    "pythonIndentUnit": 4
   },
   "notebookName": "1.races_results",
   "widgets": {}
  },
  "language_info": {
   "name": "python"
  }
 },
 "nbformat": 4,
 "nbformat_minor": 0
}
