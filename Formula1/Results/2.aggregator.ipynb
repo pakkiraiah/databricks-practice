{
 "cells": [
  {
   "cell_type": "code",
   "execution_count": 0,
   "metadata": {
    "application/vnd.databricks.v1+cell": {
     "cellMetadata": {
      "byteLimit": 2048000,
      "rowLimit": 10000
     },
     "inputWidgets": {},
     "nuid": "10a846fb-8f19-4ac5-a544-ff1342243022",
     "showTitle": false,
     "tableResultSettingsMap": {},
     "title": ""
    }
   },
   "outputs": [],
   "source": [
    "%run \"/Repos/pakkiraiah.kandi@outlook.com/databricks-practice/Formula1/Includes/configurations\"\n"
   ]
  },
  {
   "cell_type": "code",
   "execution_count": 0,
   "metadata": {
    "application/vnd.databricks.v1+cell": {
     "cellMetadata": {
      "byteLimit": 2048000,
      "rowLimit": 10000
     },
     "inputWidgets": {},
     "nuid": "4cfa5df4-6b62-48a4-8228-468a4b0eff3c",
     "showTitle": false,
     "tableResultSettingsMap": {},
     "title": ""
    }
   },
   "outputs": [],
   "source": [
    "%run \"/Repos/pakkiraiah.kandi@outlook.com/databricks-practice/Formula1/Includes/common_functions\""
   ]
  },
  {
   "cell_type": "code",
   "execution_count": 0,
   "metadata": {
    "application/vnd.databricks.v1+cell": {
     "cellMetadata": {
      "byteLimit": 2048000,
      "rowLimit": 10000
     },
     "inputWidgets": {},
     "nuid": "0798315f-dc99-4421-afd4-cba50c175d5c",
     "showTitle": false,
     "tableResultSettingsMap": {},
     "title": ""
    }
   },
   "outputs": [],
   "source": [
    "read_formula_df=spark.read.parquet(f\"{presentation_folder_path}/formula1_results\")\n"
   ]
  },
  {
   "cell_type": "code",
   "execution_count": 0,
   "metadata": {
    "application/vnd.databricks.v1+cell": {
     "cellMetadata": {
      "byteLimit": 2048000,
      "rowLimit": 10000
     },
     "inputWidgets": {},
     "nuid": "4d4ff9ed-b444-48ab-9590-910ef2255d24",
     "showTitle": false,
     "tableResultSettingsMap": {},
     "title": ""
    }
   },
   "outputs": [],
   "source": [
    "demo_df=read_formula_df.filter(\"race_year=='2020'\").orderBy(read_formula_df[\"points\"].desc())\n"
   ]
  },
  {
   "cell_type": "code",
   "execution_count": 0,
   "metadata": {
    "application/vnd.databricks.v1+cell": {
     "cellMetadata": {
      "byteLimit": 2048000,
      "rowLimit": 10000
     },
     "inputWidgets": {},
     "nuid": "52c11074-5717-41af-a4c6-3575aa003c42",
     "showTitle": false,
     "tableResultSettingsMap": {
      "0": {
       "dataGridStateBlob": "{\"version\":1,\"tableState\":{\"columnPinning\":{\"left\":[\"#row_number#\"],\"right\":[]},\"columnSizing\":{},\"columnVisibility\":{}},\"settings\":{\"columns\":{}},\"syncTimestamp\":1753511952262}",
       "filterBlob": null,
       "queryPlanFiltersBlob": null,
       "tableResultIndex": 0
      }
     },
     "title": ""
    }
   },
   "outputs": [],
   "source": [
    "display(demo_df)"
   ]
  },
  {
   "cell_type": "code",
   "execution_count": 0,
   "metadata": {
    "application/vnd.databricks.v1+cell": {
     "cellMetadata": {
      "byteLimit": 2048000,
      "rowLimit": 10000
     },
     "inputWidgets": {},
     "nuid": "d1ba2b70-5576-4c79-b186-e2f14000c356",
     "showTitle": false,
     "tableResultSettingsMap": {},
     "title": ""
    }
   },
   "outputs": [],
   "source": [
    "#Aggregator functions\n",
    "\n",
    "demo_df.select(count(\"*\")).show()\n",
    "demo_df.select(count(\"race_name\")).show()\n",
    "demo_df.select(countDistinct(\"race_name\")).show()\n",
    "demo_df.select(mean(\"points\")).show()\n",
    "demo_df.select(sum(\"points\")).show()\n",
    "demo_df.select(max(\"points\")).show()"
   ]
  },
  {
   "cell_type": "code",
   "execution_count": 0,
   "metadata": {
    "application/vnd.databricks.v1+cell": {
     "cellMetadata": {
      "byteLimit": 2048000,
      "rowLimit": 10000
     },
     "inputWidgets": {},
     "nuid": "aa3b9ae4-2e0c-4e82-85c5-4c60e01d0337",
     "showTitle": false,
     "tableResultSettingsMap": {},
     "title": ""
    }
   },
   "outputs": [],
   "source": [
    "demo_df.filter(\"driver_name=='Lewis Hamilton'\").select(sum(\"points\").alias(\"total_points\"),countDistinct(\"race_name\").alias(\"number_of_races\")).show()\n"
   ]
  },
  {
   "cell_type": "code",
   "execution_count": 0,
   "metadata": {
    "application/vnd.databricks.v1+cell": {
     "cellMetadata": {
      "byteLimit": 2048000,
      "rowLimit": 10000
     },
     "inputWidgets": {},
     "nuid": "29b3ad8f-0455-4f3e-8761-ee308c904caa",
     "showTitle": false,
     "tableResultSettingsMap": {
      "0": {
       "dataGridStateBlob": "{\"version\":1,\"tableState\":{\"columnPinning\":{\"left\":[\"#row_number#\"],\"right\":[]},\"columnSizing\":{},\"columnVisibility\":{}},\"settings\":{\"columns\":{}},\"syncTimestamp\":1753511066824}",
       "filterBlob": null,
       "queryPlanFiltersBlob": null,
       "tableResultIndex": 0
      }
     },
     "title": ""
    }
   },
   "outputs": [],
   "source": [
    "#Group by functons\n",
    "\n",
    "demo_groupby_df=read_formula_df.groupBy(\"race_year\",\"driver_name\").agg(sum(\"points\").alias(\"total_points\")\n",
    "                                    ,countDistinct(\"race_name\").alias(\"number_of_races\"))\n",
    "\n",
    "display(demo_groupby_df)\n",
    "\n",
    "\n"
   ]
  },
  {
   "cell_type": "code",
   "execution_count": 0,
   "metadata": {
    "application/vnd.databricks.v1+cell": {
     "cellMetadata": {
      "byteLimit": 2048000,
      "rowLimit": 10000
     },
     "inputWidgets": {},
     "nuid": "e795a60b-dafe-434b-bfc9-4a4bd688c8b6",
     "showTitle": false,
     "tableResultSettingsMap": {
      "0": {
       "dataGridStateBlob": "{\"version\":1,\"tableState\":{\"columnPinning\":{\"left\":[\"#row_number#\"],\"right\":[]},\"columnSizing\":{},\"columnVisibility\":{}},\"settings\":{\"columns\":{}},\"syncTimestamp\":1753511606835}",
       "filterBlob": null,
       "queryPlanFiltersBlob": null,
       "tableResultIndex": 0
      }
     },
     "title": ""
    }
   },
   "outputs": [],
   "source": [
    "#Window Functions\n",
    "\n",
    "from pyspark.sql.window import Window\n",
    "from pyspark.sql.functions import rank\n",
    "demo_window_spec=Window.partitionBy(\"race_year\").orderBy(desc(\"total_points\"))\n",
    "\n",
    "demo_groupby_df=demo_groupby_df.withColumn(\"rank\",rank().over(demo_window_spec))\n",
    "#.filter(\"race_year==2020\")\n",
    "\n",
    "display(demo_groupby_df)\n"
   ]
  },
  {
   "cell_type": "code",
   "execution_count": 0,
   "metadata": {
    "application/vnd.databricks.v1+cell": {
     "cellMetadata": {
      "byteLimit": 2048000,
      "rowLimit": 10000
     },
     "inputWidgets": {},
     "nuid": "65131543-4eb1-484c-b599-b5bd05fa3ff6",
     "showTitle": false,
     "tableResultSettingsMap": {},
     "title": ""
    }
   },
   "outputs": [],
   "source": [
    "#Ranking the drivers based on their total points using rank\n",
    "driverSpec=Window.partitionBy(\"race_year\").orderBy(desc(\"total_points\"))\n"
   ]
  },
  {
   "cell_type": "code",
   "execution_count": 0,
   "metadata": {
    "application/vnd.databricks.v1+cell": {
     "cellMetadata": {
      "byteLimit": 2048000,
      "rowLimit": 10000
     },
     "inputWidgets": {},
     "nuid": "fc9e51f4-fee0-4a42-af3e-2b530dedefcf",
     "showTitle": false,
     "tableResultSettingsMap": {
      "0": {
       "dataGridStateBlob": "{\"version\":1,\"tableState\":{\"columnPinning\":{\"left\":[\"#row_number#\"],\"right\":[]},\"columnSizing\":{},\"columnVisibility\":{}},\"settings\":{\"columns\":{}},\"syncTimestamp\":1753512775206}",
       "filterBlob": null,
       "queryPlanFiltersBlob": null,
       "tableResultIndex": 0
      }
     },
     "title": ""
    }
   },
   "outputs": [],
   "source": [
    "#Driver standings\n",
    "driverStandings=read_formula_df\\\n",
    "    .groupBy(\"race_year\",\"driver_name\",\"driver_nationality\",\"constructor_name\")\\\n",
    "        .agg(sum(\"points\").alias(\"total_points\"),\\\n",
    "            count(when(col(\"position\")==\"1\",1).otherwise(0)).alias(\"Wins\"))\n",
    "\n",
    "driverRankSpec=Window.partitionBy(\"race_year\").orderBy(desc(\"total_points\"),desc(\"Wins\"))\n",
    "\n",
    "driver_standings_df=driverStandings.withColumn(\"rank\",rank().over(driverRankSpec))\n",
    "\n",
    "\n",
    "\n",
    "display(driver_standings_df)"
   ]
  },
  {
   "cell_type": "code",
   "execution_count": 0,
   "metadata": {
    "application/vnd.databricks.v1+cell": {
     "cellMetadata": {
      "byteLimit": 2048000,
      "rowLimit": 10000
     },
     "inputWidgets": {},
     "nuid": "fb91c03f-ceff-425f-8b23-88cbe57895af",
     "showTitle": false,
     "tableResultSettingsMap": {},
     "title": ""
    }
   },
   "outputs": [],
   "source": [
    "#Writting driver standings into presentation layer\n",
    "driver_standings_df.write.mode(\"overwrite\").format(\"parquet\").parquet(f\"{presentation_folder_path}/driver_standings\")"
   ]
  },
  {
   "cell_type": "code",
   "execution_count": 0,
   "metadata": {
    "application/vnd.databricks.v1+cell": {
     "cellMetadata": {
      "byteLimit": 2048000,
      "rowLimit": 10000
     },
     "inputWidgets": {},
     "nuid": "cad1f3df-23d9-4356-b2eb-c6bf3149797a",
     "showTitle": false,
     "tableResultSettingsMap": {},
     "title": ""
    }
   },
   "outputs": [],
   "source": [
    "#Read driverStandings from presentation layer\n",
    "driverStandings=spark.read.parquet(f\"{presentation_folder_path}/driver_standings\")\n",
    "display(driverStandings)"
   ]
  },
  {
   "cell_type": "code",
   "execution_count": 0,
   "metadata": {
    "application/vnd.databricks.v1+cell": {
     "cellMetadata": {
      "byteLimit": 2048000,
      "rowLimit": 10000
     },
     "inputWidgets": {},
     "nuid": "dbaca1a7-f149-4382-b91d-cf70508e3cd8",
     "showTitle": false,
     "tableResultSettingsMap": {
      "0": {
       "dataGridStateBlob": "{\"version\":1,\"tableState\":{\"columnPinning\":{\"left\":[\"#row_number#\"],\"right\":[]},\"columnSizing\":{},\"columnVisibility\":{}},\"settings\":{\"columns\":{}},\"syncTimestamp\":1753514358306}",
       "filterBlob": null,
       "queryPlanFiltersBlob": null,
       "tableResultIndex": 0
      }
     },
     "title": ""
    }
   },
   "outputs": [],
   "source": [
    "#Constructors standings\n",
    "constructorSpec=Window.partitionBy(\"race_year\").orderBy(desc(\"total_points\"),desc(\"Wins\"))\n",
    "\n",
    "constructors_standig_df=read_formula_df\\\n",
    "    .groupBy(\"race_year\",\"constructor_name\")\\\n",
    "        .agg(sum(\"points\").alias(\"total_points\"),\\\n",
    "        count(when(col(\"position\")==\"1\",1).otherwise(0)).alias(\"Wins\"))\n",
    "constructors_standig_df=constructors_standig_df.withColumn(\"rank\",rank().over(constructorSpec))\n",
    "\n",
    "display(constructors_standig_df.filter(\"race_year==2020\"))"
   ]
  },
  {
   "cell_type": "code",
   "execution_count": 0,
   "metadata": {
    "application/vnd.databricks.v1+cell": {
     "cellMetadata": {
      "byteLimit": 2048000,
      "rowLimit": 10000
     },
     "inputWidgets": {},
     "nuid": "824e65e7-9a65-4876-9fce-826ee3d5fe2f",
     "showTitle": false,
     "tableResultSettingsMap": {},
     "title": ""
    }
   },
   "outputs": [],
   "source": [
    "#Writting Team standings into presentation layer\n",
    "constructors_standig_df.write.mode(\"overwrite\").format(\"parquet\").parquet(f\"{presentation_folder_path}/constructors_standig\")"
   ]
  },
  {
   "cell_type": "code",
   "execution_count": 0,
   "metadata": {
    "application/vnd.databricks.v1+cell": {
     "cellMetadata": {
      "byteLimit": 2048000,
      "rowLimit": 10000
     },
     "inputWidgets": {},
     "nuid": "8140a363-2a58-4a78-be30-d98325cbe030",
     "showTitle": false,
     "tableResultSettingsMap": {},
     "title": ""
    }
   },
   "outputs": [],
   "source": [
    "#Read team standing from presentation layer\n",
    "team_standing_df=spark.read.parquet(f\"{presentation_folder_path}/constructors_standig\")\n",
    "display(team_standing_df.filter(\"race_year==2020\"))"
   ]
  }
 ],
 "metadata": {
  "application/vnd.databricks.v1+notebook": {
   "computePreferences": null,
   "dashboards": [],
   "environmentMetadata": {
    "base_environment": "",
    "environment_version": "2"
   },
   "inputWidgetPreferences": null,
   "language": "python",
   "notebookMetadata": {
    "pythonIndentUnit": 4
   },
   "notebookName": "2.aggregator",
   "widgets": {}
  },
  "language_info": {
   "name": "python"
  }
 },
 "nbformat": 4,
 "nbformat_minor": 0
}
