{
 "cells": [
  {
   "cell_type": "code",
   "execution_count": 0,
   "metadata": {
    "application/vnd.databricks.v1+cell": {
     "cellMetadata": {},
     "inputWidgets": {},
     "nuid": "08156c64-c0bb-4c39-b676-1b3e9ee5b8e3",
     "showTitle": false,
     "tableResultSettingsMap": {},
     "title": ""
    }
   },
   "outputs": [],
   "source": [
    "raw_folder_path='abfss://raw@databrickspracticesa.dfs.core.windows.net'\n",
    "processed_folder_path='abfss://processed@databrickspracticesa.dfs.core.windows.net'\n",
    "presentation_folder_path='abfss://presentation@databrickspracticesa.dfs.core.windows.net'\n"
   ]
  },
  {
   "cell_type": "code",
   "execution_count": 0,
   "metadata": {
    "application/vnd.databricks.v1+cell": {
     "cellMetadata": {},
     "inputWidgets": {},
     "nuid": "a50a5bcc-debe-4a02-88e1-cbbb28d1d6f1",
     "showTitle": false,
     "tableResultSettingsMap": {},
     "title": ""
    }
   },
   "outputs": [],
   "source": [
    "#Keys\n",
    "client_id=dbutils.secrets.get(scope=\"formula1-scope\",key=\"client-id\")\n",
    "tenant_id=dbutils.secrets.get(scope=\"formula1-scope\",key=\"tenant-id\")\n",
    "client_secret=dbutils.secrets.get(scope=\"formula1-scope\",key=\"client-secret\")"
   ]
  },
  {
   "cell_type": "code",
   "execution_count": 0,
   "metadata": {
    "application/vnd.databricks.v1+cell": {
     "cellMetadata": {},
     "inputWidgets": {},
     "nuid": "2673c29c-e1d2-48b8-99c6-38089a62b6bc",
     "showTitle": false,
     "tableResultSettingsMap": {},
     "title": ""
    }
   },
   "outputs": [],
   "source": [
    "#Spark Config\n",
    "spark.conf.set(\"fs.azure.account.auth.type.databrickspracticesa.dfs.core.windows.net\", \"OAuth\")\n",
    "spark.conf.set(\"fs.azure.account.oauth.provider.type.databrickspracticesa.dfs.core.windows.net\", \"org.apache.hadoop.fs.azurebfs.oauth2.ClientCredsTokenProvider\")\n",
    "spark.conf.set(\"fs.azure.account.oauth2.client.id.databrickspracticesa.dfs.core.windows.net\", client_id)\n",
    "spark.conf.set(\"fs.azure.account.oauth2.client.secret.databrickspracticesa.dfs.core.windows.net\", client_secret)\n",
    "spark.conf.set(\"fs.azure.account.oauth2.client.endpoint.databrickspracticesa.dfs.core.windows.net\",f\"https://login.microsoftonline.com/{tenant_id}/oauth2/token\")"
   ]
  }
 ],
 "metadata": {
  "application/vnd.databricks.v1+notebook": {
   "computePreferences": null,
   "dashboards": [],
   "environmentMetadata": {
    "base_environment": "",
    "environment_version": "2"
   },
   "inputWidgetPreferences": null,
   "language": "python",
   "notebookMetadata": {
    "pythonIndentUnit": 4
   },
   "notebookName": "configurations",
   "widgets": {}
  },
  "language_info": {
   "name": "python"
  }
 },
 "nbformat": 4,
 "nbformat_minor": 0
}
