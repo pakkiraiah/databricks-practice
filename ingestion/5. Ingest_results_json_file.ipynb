{
 "cells": [
  {
   "cell_type": "markdown",
   "metadata": {
    "application/vnd.databricks.v1+cell": {
     "cellMetadata": {
      "byteLimit": 2048000,
      "rowLimit": 10000
     },
     "inputWidgets": {},
     "nuid": "1fa7d4dc-a69c-4ffd-8318-9f05ca2707e1",
     "showTitle": false,
     "tableResultSettingsMap": {},
     "title": ""
    }
   },
   "source": [
    "# Read Contrucor JSON File to Spark Dataframe reader"
   ]
  },
  {
   "cell_type": "code",
   "execution_count": 0,
   "metadata": {
    "application/vnd.databricks.v1+cell": {
     "cellMetadata": {
      "byteLimit": 2048000,
      "rowLimit": 10000
     },
     "inputWidgets": {},
     "nuid": "4e9de7de-c9f6-4057-86b7-de7213afd9b4",
     "showTitle": false,
     "tableResultSettingsMap": {},
     "title": ""
    }
   },
   "outputs": [],
   "source": [
    "client_id=dbutils.secrets.get(scope=\"formula1-scope\",key=\"client-id\")\n",
    "tenant_id=dbutils.secrets.get(scope=\"formula1-scope\",key=\"tenant-id\")\n",
    "client_secret=dbutils.secrets.get(scope=\"formula1-scope\",key=\"client-secret\")\n",
    "\n",
    "spark.conf.set(\"fs.azure.account.auth.type.databrickspracticesa.dfs.core.windows.net\", \"OAuth\")\n",
    "spark.conf.set(\"fs.azure.account.oauth.provider.type.databrickspracticesa.dfs.core.windows.net\", \"org.apache.hadoop.fs.azurebfs.oauth2.ClientCredsTokenProvider\")\n",
    "spark.conf.set(\"fs.azure.account.oauth2.client.id.databrickspracticesa.dfs.core.windows.net\", client_id)\n",
    "spark.conf.set(\"fs.azure.account.oauth2.client.secret.databrickspracticesa.dfs.core.windows.net\", client_secret)\n",
    "spark.conf.set(\"fs.azure.account.oauth2.client.endpoint.databrickspracticesa.dfs.core.windows.net\",f\"https://login.microsoftonline.com/{tenant_id}/oauth2/token\")"
   ]
  },
  {
   "cell_type": "code",
   "execution_count": 0,
   "metadata": {
    "application/vnd.databricks.v1+cell": {
     "cellMetadata": {
      "byteLimit": 2048000,
      "rowLimit": 10000
     },
     "inputWidgets": {},
     "nuid": "ffaed0c9-d99c-4f8d-84e4-d2b7b45a138c",
     "showTitle": false,
     "tableResultSettingsMap": {},
     "title": ""
    }
   },
   "outputs": [],
   "source": [
    "display(dbutils.fs.ls(\"abfss://raw@databrickspracticesa.dfs.core.windows.net\"))"
   ]
  },
  {
   "cell_type": "code",
   "execution_count": 0,
   "metadata": {
    "application/vnd.databricks.v1+cell": {
     "cellMetadata": {
      "byteLimit": 2048000,
      "rowLimit": 10000
     },
     "inputWidgets": {},
     "nuid": "d30e6f07-5b9b-4d22-8243-ecc4294e591b",
     "showTitle": false,
     "tableResultSettingsMap": {},
     "title": ""
    }
   },
   "outputs": [],
   "source": [
    "#Construc Schema\n",
    "from pyspark.sql.types import StructType,StructField,IntegerType,StringType\n",
    "\n",
    "\n",
    "results_schema=StructType(fields=[StructField(\"resultId\",IntegerType(),False),\n",
    "                                 StructField(\"raceId\",IntegerType(),False),\n",
    "                                 StructField(\"driverId\",IntegerType(),False),\n",
    "                                 StructField(\"constructorId\",IntegerType(),True),\n",
    "                                 StructField(\"number\",IntegerType(),True),\n",
    "                                 StructField(\"grid\",IntegerType(),True),\n",
    "                                 StructField(\"laps\",IntegerType(),True),\n",
    "                                 StructField(\"points\",IntegerType(),True),\n",
    "                                 StructField(\"positionOrder\",IntegerType(),True),\n",
    "                                 StructField(\"statusId\",IntegerType(),True),\n",
    "                                 StructField(\"rank\",IntegerType(),True),\n",
    "                                 StructField(\"fastestLap\",StringType(),True),\n",
    "                                 StructField(\"fastestLapSpeed\",StringType(),True),\n",
    "                                 StructField(\"fastestLapTime\",StringType(),True),\n",
    "                                 StructField(\"milliseconds\",StringType(),True),\n",
    "                                 StructField(\"positionText\",StringType(),True),\n",
    "                                 StructField(\"time\",StringType(),True),\n",
    "                                 StructField(\"position\",StringType(),True)])\n",
    "#Read Driver JSON Data\n",
    "results_df=spark.read.schema(results_schema).json(\"abfss://raw@databrickspracticesa.dfs.core.windows.net/results.json\")\n",
    "results_df.printSchema\n",
    "\n"
   ]
  },
  {
   "cell_type": "code",
   "execution_count": 0,
   "metadata": {
    "application/vnd.databricks.v1+cell": {
     "cellMetadata": {
      "byteLimit": 2048000,
      "rowLimit": 10000
     },
     "inputWidgets": {},
     "nuid": "4327fe97-ba8d-4d22-8833-46946618deb9",
     "showTitle": false,
     "tableResultSettingsMap": {},
     "title": ""
    }
   },
   "outputs": [],
   "source": [
    "results_df.printSchema()\n"
   ]
  },
  {
   "cell_type": "code",
   "execution_count": 0,
   "metadata": {
    "application/vnd.databricks.v1+cell": {
     "cellMetadata": {
      "byteLimit": 2048000,
      "rowLimit": 10000
     },
     "inputWidgets": {},
     "nuid": "2a525a58-4c07-4a41-b89b-5a81e8ff47bf",
     "showTitle": false,
     "tableResultSettingsMap": {},
     "title": ""
    }
   },
   "outputs": [],
   "source": [
    "from pyspark.sql.functions import lit;\n",
    "from pyspark.sql.functions import to_timestamp\n",
    "from pyspark.sql.functions import concat\n",
    "from pyspark.sql.functions import current_timestamp"
   ]
  },
  {
   "cell_type": "code",
   "execution_count": 0,
   "metadata": {
    "application/vnd.databricks.v1+cell": {
     "cellMetadata": {
      "byteLimit": 2048000,
      "rowLimit": 10000
     },
     "inputWidgets": {},
     "nuid": "76a200b5-352d-483c-8197-f95b5d99663e",
     "showTitle": false,
     "tableResultSettingsMap": {
      "0": {
       "dataGridStateBlob": "{\"version\":1,\"tableState\":{\"columnPinning\":{\"left\":[\"#row_number#\"],\"right\":[]},\"columnSizing\":{},\"columnVisibility\":{}},\"settings\":{\"columns\":{}},\"syncTimestamp\":1753172951958}",
       "filterBlob": null,
       "queryPlanFiltersBlob": null,
       "tableResultIndex": 0
      }
     },
     "title": ""
    }
   },
   "outputs": [],
   "source": [
    "results_select_df=results_df.select(results_df[\"resultId\"].alias(\"result_id\"),results_df[\"raceId\"].alias(\"race_id\"),results_df[\"driverId\"].alias(\"driver_id\"),results_df[\"constructorId\"].alias(\"constructor_id\"),results_df[\"number\"],results_df[\"grid\"],results_df[\"laps\"],results_df[\"points\"],results_df[\"positionOrder\"].alias(\"position_order\"),results_df[\"statusId\"].alias(\"status_id\"),results_df[\"fastestLap\"].alias(\"fastest_lap\"),results_df[\"fastestLapSpeed\"].alias(\"fastest_lap_speed\"),results_df[\"rank\"],results_df[\"fastestLapTime\"].alias(\"fastest_lap_time\"),results_df[\"milliseconds\"].alias(\"milli_seconds\"),results_df[\"positionText\"].alias(\"position_text\"),results_df[\"time\"],results_df[\"position\"],lit(\"env\").alias(\"env\"),current_timestamp().alias(\"ingestion_date\"))\n",
    "\n",
    "display(results_select_df.limit(10))\n",
    "\n",
    "\n"
   ]
  },
  {
   "cell_type": "code",
   "execution_count": 0,
   "metadata": {
    "application/vnd.databricks.v1+cell": {
     "cellMetadata": {
      "byteLimit": 2048000,
      "rowLimit": 10000
     },
     "inputWidgets": {},
     "nuid": "14ebfd93-bbd6-471e-9c95-55d43712edcf",
     "showTitle": false,
     "tableResultSettingsMap": {},
     "title": ""
    }
   },
   "outputs": [],
   "source": [
    "results_final_df=results_select_df.drop(\"status_id\")\n"
   ]
  },
  {
   "cell_type": "code",
   "execution_count": 0,
   "metadata": {
    "application/vnd.databricks.v1+cell": {
     "cellMetadata": {
      "byteLimit": 2048000,
      "rowLimit": 10000
     },
     "inputWidgets": {},
     "nuid": "6c3d8c86-2d91-4259-aa42-daaf40fb4ea1",
     "showTitle": false,
     "tableResultSettingsMap": {
      "0": {
       "dataGridStateBlob": "{\"version\":1,\"tableState\":{\"columnPinning\":{\"left\":[\"#row_number#\"],\"right\":[]},\"columnSizing\":{},\"columnVisibility\":{}},\"settings\":{\"columns\":{}},\"syncTimestamp\":1753178391350}",
       "filterBlob": null,
       "queryPlanFiltersBlob": null,
       "tableResultIndex": 0
      }
     },
     "title": ""
    }
   },
   "outputs": [],
   "source": [
    "display(results_final_df.limit(10))"
   ]
  },
  {
   "cell_type": "markdown",
   "metadata": {
    "application/vnd.databricks.v1+cell": {
     "cellMetadata": {
      "byteLimit": 2048000,
      "rowLimit": 10000
     },
     "inputWidgets": {},
     "nuid": "f8e231a9-3380-4407-ad25-7cae87894341",
     "showTitle": false,
     "tableResultSettingsMap": {},
     "title": ""
    }
   },
   "source": [
    "# Write data to parquet"
   ]
  },
  {
   "cell_type": "code",
   "execution_count": 0,
   "metadata": {
    "application/vnd.databricks.v1+cell": {
     "cellMetadata": {
      "byteLimit": 2048000,
      "rowLimit": 10000
     },
     "inputWidgets": {},
     "nuid": "cc868ca1-187d-47da-9cfe-caa5b2fc7ba8",
     "showTitle": false,
     "tableResultSettingsMap": {},
     "title": ""
    }
   },
   "outputs": [],
   "source": [
    "#Write with Partition\n",
    "results_final_df.write.mode(\"overwrite\").partitionBy(\"race_id\").parquet(\"abfss://processed@databrickspracticesa.dfs.core.windows.net/results\")"
   ]
  },
  {
   "cell_type": "code",
   "execution_count": 0,
   "metadata": {
    "application/vnd.databricks.v1+cell": {
     "cellMetadata": {
      "byteLimit": 2048000,
      "rowLimit": 10000
     },
     "inputWidgets": {},
     "nuid": "45bed589-129a-4696-bbd3-9be0b312bc7f",
     "showTitle": false,
     "tableResultSettingsMap": {
      "0": {
       "dataGridStateBlob": "{\"version\":1,\"tableState\":{\"columnPinning\":{\"left\":[\"#row_number#\"],\"right\":[]},\"columnSizing\":{},\"columnVisibility\":{}},\"settings\":{\"columns\":{}},\"syncTimestamp\":1753170996076}",
       "filterBlob": null,
       "queryPlanFiltersBlob": null,
       "tableResultIndex": 0
      }
     },
     "title": ""
    }
   },
   "outputs": [],
   "source": [
    "#Display the data\n",
    "from pyspark.sql.functions import col\n",
    "display(spark.read.parquet(\"abfss://processed@databrickspracticesa.dfs.core.windows.net/results\").filter(col('race_id') =='800'))\n"
   ]
  }
 ],
 "metadata": {
  "application/vnd.databricks.v1+notebook": {
   "computePreferences": null,
   "dashboards": [],
   "environmentMetadata": {
    "base_environment": "",
    "environment_version": "2"
   },
   "inputWidgetPreferences": null,
   "language": "python",
   "notebookMetadata": {
    "pythonIndentUnit": 4
   },
   "notebookName": "5. Ingest_results_json_file",
   "widgets": {}
  },
  "language_info": {
   "name": "python"
  }
 },
 "nbformat": 4,
 "nbformat_minor": 0
}
