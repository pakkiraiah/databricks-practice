{
 "cells": [
  {
   "cell_type": "markdown",
   "metadata": {
    "application/vnd.databricks.v1+cell": {
     "cellMetadata": {
      "byteLimit": 2048000,
      "rowLimit": 10000
     },
     "inputWidgets": {},
     "nuid": "1fa7d4dc-a69c-4ffd-8318-9f05ca2707e1",
     "showTitle": false,
     "tableResultSettingsMap": {},
     "title": ""
    }
   },
   "source": [
    "# Read Contrucor JSON File to Spark Dataframe reader"
   ]
  },
  {
   "cell_type": "code",
   "execution_count": 0,
   "metadata": {
    "application/vnd.databricks.v1+cell": {
     "cellMetadata": {
      "byteLimit": 2048000,
      "rowLimit": 10000
     },
     "inputWidgets": {},
     "nuid": "4e9de7de-c9f6-4057-86b7-de7213afd9b4",
     "showTitle": false,
     "tableResultSettingsMap": {},
     "title": ""
    }
   },
   "outputs": [],
   "source": [
    "client_id=dbutils.secrets.get(scope=\"formula1-scope\",key=\"client-id\")\n",
    "tenant_id=dbutils.secrets.get(scope=\"formula1-scope\",key=\"tenant-id\")\n",
    "client_secret=dbutils.secrets.get(scope=\"formula1-scope\",key=\"client-secret\")\n",
    "\n",
    "spark.conf.set(\"fs.azure.account.auth.type.databrickspracticesa.dfs.core.windows.net\", \"OAuth\")\n",
    "spark.conf.set(\"fs.azure.account.oauth.provider.type.databrickspracticesa.dfs.core.windows.net\", \"org.apache.hadoop.fs.azurebfs.oauth2.ClientCredsTokenProvider\")\n",
    "spark.conf.set(\"fs.azure.account.oauth2.client.id.databrickspracticesa.dfs.core.windows.net\", client_id)\n",
    "spark.conf.set(\"fs.azure.account.oauth2.client.secret.databrickspracticesa.dfs.core.windows.net\", client_secret)\n",
    "spark.conf.set(\"fs.azure.account.oauth2.client.endpoint.databrickspracticesa.dfs.core.windows.net\",f\"https://login.microsoftonline.com/{tenant_id}/oauth2/token\")"
   ]
  },
  {
   "cell_type": "code",
   "execution_count": 0,
   "metadata": {
    "application/vnd.databricks.v1+cell": {
     "cellMetadata": {
      "byteLimit": 2048000,
      "rowLimit": 10000
     },
     "inputWidgets": {},
     "nuid": "ffaed0c9-d99c-4f8d-84e4-d2b7b45a138c",
     "showTitle": false,
     "tableResultSettingsMap": {},
     "title": ""
    }
   },
   "outputs": [],
   "source": [
    "display(dbutils.fs.ls(\"abfss://raw@databrickspracticesa.dfs.core.windows.net\"))"
   ]
  },
  {
   "cell_type": "code",
   "execution_count": 0,
   "metadata": {
    "application/vnd.databricks.v1+cell": {
     "cellMetadata": {
      "byteLimit": 2048000,
      "rowLimit": 10000
     },
     "inputWidgets": {},
     "nuid": "d30e6f07-5b9b-4d22-8243-ecc4294e591b",
     "showTitle": false,
     "tableResultSettingsMap": {},
     "title": ""
    }
   },
   "outputs": [],
   "source": [
    "#Construc Schema\n",
    "from pyspark.sql.types import StructType,StructField,IntegerType,StringType\n",
    "constructors_schema=\"constructorId integer,constructorRef string,name string,nationality string,url string\"\n",
    "\n",
    "#Read Constructors JSON Data\n",
    "constructor_df=spark.read\\\n",
    ".schema(constructors_schema).json(\"abfss://raw@databrickspracticesa.dfs.core.windows.net/constructors.json\")\n",
    "display(constructor_df.limit(10))\n",
    "\n"
   ]
  },
  {
   "cell_type": "code",
   "execution_count": 0,
   "metadata": {
    "application/vnd.databricks.v1+cell": {
     "cellMetadata": {
      "byteLimit": 2048000,
      "rowLimit": 10000
     },
     "inputWidgets": {},
     "nuid": "4327fe97-ba8d-4d22-8833-46946618deb9",
     "showTitle": false,
     "tableResultSettingsMap": {},
     "title": ""
    }
   },
   "outputs": [],
   "source": [
    "constructor_df.printSchema()\n"
   ]
  },
  {
   "cell_type": "code",
   "execution_count": 0,
   "metadata": {
    "application/vnd.databricks.v1+cell": {
     "cellMetadata": {
      "byteLimit": 2048000,
      "rowLimit": 10000
     },
     "inputWidgets": {},
     "nuid": "2a525a58-4c07-4a41-b89b-5a81e8ff47bf",
     "showTitle": false,
     "tableResultSettingsMap": {},
     "title": ""
    }
   },
   "outputs": [],
   "source": [
    "from pyspark.sql.functions import lit;\n",
    "from pyspark.sql.functions import to_timestamp\n",
    "from pyspark.sql.functions import concat\n",
    "from pyspark.sql.functions import current_timestamp"
   ]
  },
  {
   "cell_type": "code",
   "execution_count": 0,
   "metadata": {
    "application/vnd.databricks.v1+cell": {
     "cellMetadata": {
      "byteLimit": 2048000,
      "rowLimit": 10000
     },
     "inputWidgets": {},
     "nuid": "76a200b5-352d-483c-8197-f95b5d99663e",
     "showTitle": false,
     "tableResultSettingsMap": {},
     "title": ""
    }
   },
   "outputs": [],
   "source": [
    "constructor_select_df=constructor_df.select(constructor_df[\"constructorId\"],constructor_df[\"constructorRef\"],constructor_df[\"name\"],constructor_df[\"nationality\"])\n",
    "display(constructor_select_df.limit(10))\n",
    "constructor_renamed_df=constructor_select_df.withColumnRenamed(\"constructorId\",\"constructor_id\")\\\n",
    ".withColumnRenamed(\"constructorRef\",\"constructor_ref\")\\\n",
    ".withColumn(\"ingestion_date\",current_timestamp()).withColumn(\"env\",lit(\"itg\"))\n",
    "display(constructor_renamed_df.limit(10))\n"
   ]
  },
  {
   "cell_type": "markdown",
   "metadata": {
    "application/vnd.databricks.v1+cell": {
     "cellMetadata": {
      "byteLimit": 2048000,
      "rowLimit": 10000
     },
     "inputWidgets": {},
     "nuid": "f8e231a9-3380-4407-ad25-7cae87894341",
     "showTitle": false,
     "tableResultSettingsMap": {},
     "title": ""
    }
   },
   "source": [
    "# Write data to parquet"
   ]
  },
  {
   "cell_type": "code",
   "execution_count": 0,
   "metadata": {
    "application/vnd.databricks.v1+cell": {
     "cellMetadata": {
      "byteLimit": 2048000,
      "rowLimit": 10000
     },
     "inputWidgets": {},
     "nuid": "cc868ca1-187d-47da-9cfe-caa5b2fc7ba8",
     "showTitle": false,
     "tableResultSettingsMap": {},
     "title": ""
    }
   },
   "outputs": [],
   "source": [
    "#Write with Partition\n",
    "constructor_renamed_df.write.mode(\"overwrite\").parquet(\"abfss://processed@databrickspracticesa.dfs.core.windows.net/constructors\")"
   ]
  },
  {
   "cell_type": "code",
   "execution_count": 0,
   "metadata": {
    "application/vnd.databricks.v1+cell": {
     "cellMetadata": {
      "byteLimit": 2048000,
      "rowLimit": 10000
     },
     "inputWidgets": {},
     "nuid": "45bed589-129a-4696-bbd3-9be0b312bc7f",
     "showTitle": false,
     "tableResultSettingsMap": {},
     "title": ""
    }
   },
   "outputs": [],
   "source": [
    "#Display the data\n",
    "display(spark.read.parquet(\"abfss://processed@databrickspracticesa.dfs.core.windows.net/constructors\"))"
   ]
  }
 ],
 "metadata": {
  "application/vnd.databricks.v1+notebook": {
   "computePreferences": null,
   "dashboards": [],
   "environmentMetadata": {
    "base_environment": "",
    "environment_version": "2"
   },
   "inputWidgetPreferences": null,
   "language": "python",
   "notebookMetadata": {
    "pythonIndentUnit": 4
   },
   "notebookName": "3. Ingest_contructors_json_file",
   "widgets": {}
  },
  "language_info": {
   "name": "python"
  }
 },
 "nbformat": 4,
 "nbformat_minor": 0
}
